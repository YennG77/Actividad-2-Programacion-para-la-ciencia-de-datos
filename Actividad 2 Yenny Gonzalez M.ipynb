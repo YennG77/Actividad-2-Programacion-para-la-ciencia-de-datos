{
 "cells": [
  {
   "cell_type": "markdown",
   "id": "025f192e-e810-4cc3-8a35-537032535b97",
   "metadata": {},
   "source": [
    "# **Actividad 1. Limpieza iterativa - Yenny Gonzalez**"
   ]
  },
  {
   "cell_type": "markdown",
   "id": "c68e21c2-e5ae-440f-99a9-38eb88f7a978",
   "metadata": {},
   "source": [
    "#importar pandas y leer archivo csv\n",
    "import pandas as pd\n",
    "\n",
    "#Leer Archivo csv titanic\n",
    "df = pd.read_csv('10.000_Empresas_mas_Grandes_del_Pa_s_20240822.csv')\n",
    "\n",
    "# Muestra las primeras filas\n",
    "print(df.head())"
   ]
  },
  {
   "cell_type": "markdown",
   "id": "acc266e1-9108-4652-9213-f2078d6a6437",
   "metadata": {},
   "source": [
    "## *Limpieza de un carácter especial.*"
   ]
  },
  {
   "cell_type": "markdown",
   "id": "ed62fea3-6d34-4f62-ba3b-90e3a19f6476",
   "metadata": {},
   "source": [
    "#### 1. Se toma la columna correspondiente a \"Región\" con el Fin de eliminar la palabra \"cundinamarca\" y remplazarla por \"Bogota\" (Esta se escribe sin tilde para evitar despues tener que remplazar la tilde)."
   ]
  },
  {
   "cell_type": "markdown",
   "id": "51b0b0e8-b16e-4cc2-a121-4efedb26a916",
   "metadata": {},
   "source": [
    "#Convertir el campo \"REGIÓN\" a texto\n",
    "df['REGIÓN'] = df['REGIÓN'].astype(str)\n",
    "\n",
    "# Reemplazar 'Bogotá - Cundinamarca' por 'Bogota' en la columna \"REGIÓN\"\n",
    "df['REGIÓN'] = df['REGIÓN'].replace('Bogotá - Cundinamarca', 'Bogota')\n",
    "\n",
    "print(df['REGIÓN'].unique())"
   ]
  },
  {
   "cell_type": "markdown",
   "id": "5fc945f3-adb9-4fd6-98d8-79fe3bd8329b",
   "metadata": {},
   "source": [
    "#### 2. Se procede a eliminar las tildes presentes en la columna \"Región\"."
   ]
  },
  {
   "cell_type": "code",
   "execution_count": 32,
   "id": "9fa57e60-ebac-41ae-a464-ffe9535a1f76",
   "metadata": {},
   "outputs": [
    {
     "name": "stdout",
     "output_type": "stream",
     "text": [
      "['Bogota' 'Costa Atlantica' 'Antioquia' 'Costa Pacifica' 'Eje Cafetero'\n",
      " 'Centro - Oriente' 'Otros']\n"
     ]
    }
   ],
   "source": [
    "# Función para eliminar tildes\n",
    "\n",
    "def eliminar_tildes(texto):\n",
    "    if isinstance(texto, str):\n",
    "      return unicodedata.normalize('NFKD', texto).encode('ASCII', 'ignore').decode('ASCII')\n",
    "    return texto\n",
    "\n",
    "df['REGIÓN'] = df['REGIÓN'].apply(eliminar_tildes)\n",
    "\n",
    "print(df['REGIÓN'].unique())"
   ]
  },
  {
   "cell_type": "markdown",
   "id": "efd35c61-8ebe-4040-8ff7-eccbeea04fdc",
   "metadata": {},
   "source": [
    "## *Reducción de los nits de longitud mayor a 9.*"
   ]
  },
  {
   "cell_type": "markdown",
   "id": "6bc4a840-bdfa-4df3-ae05-2170673347f0",
   "metadata": {},
   "source": [
    "#### Se realiza un conteo de la totalidad de los NITS contenidos en la columna, con el fin de validar la longitud de cada de ellos y dar lugar a la eliminación para unificarlos, pero evidencia que todos los NITS ya cuentan con un total de 9 caracteres, por lo que no es necesario realizar este paso."
   ]
  },
  {
   "cell_type": "code",
   "execution_count": 53,
   "id": "0b857b97-c88e-4e3a-b310-da7fe5d1e70d",
   "metadata": {},
   "outputs": [
    {
     "name": "stdout",
     "output_type": "stream",
     "text": [
      "[9]\n"
     ]
    }
   ],
   "source": [
    "#Conversion de la columna \"NIT\" a texto\n",
    "df['NIT'] = df['NIT'].astype(str)\n",
    "\n",
    "#Contar la cantidad de caracteres y crear una columna que traiga este resumen\n",
    "df['Longitud NIT'] = df['NIT'].str.len()\n",
    "\n",
    "print(df1['Longitud NIT'].unique())\n"
   ]
  },
  {
   "cell_type": "markdown",
   "id": "6abcce6c-c7bd-4505-a0aa-d5cad41c8a2d",
   "metadata": {},
   "source": [
    "# **Actividad 2. Transformación de datos.**"
   ]
  },
  {
   "cell_type": "markdown",
   "id": "0e2696ee-062d-4c2d-a2a1-9070725802f6",
   "metadata": {},
   "source": [
    "## *Transformación del tipo de dato.*"
   ]
  },
  {
   "cell_type": "markdown",
   "id": "428af79c-6a0c-4783-93ca-adc2d9785845",
   "metadata": {},
   "source": [
    "#### A continuación se remplazan los valores contenidos en las columnas cuyo valor contenga el signo \"$\" por \"\" con el fin de unificar los valores y realizar la conversion de dichos valores a numericos para poder realizar un analisis simple de la sumatoria de algunas columnas."
   ]
  },
  {
   "cell_type": "code",
   "execution_count": 38,
   "id": "1a64db86-8fe2-48db-9fe3-460fa9d89fd4",
   "metadata": {},
   "outputs": [
    {
     "name": "stdout",
     "output_type": "stream",
     "text": [
      "<class 'pandas.core.frame.DataFrame'>\n",
      "RangeIndex: 20000 entries, 0 to 19999\n",
      "Data columns (total 14 columns):\n",
      " #   Column                  Non-Null Count  Dtype  \n",
      "---  ------                  --------------  -----  \n",
      " 0   NIT                     20000 non-null  int64  \n",
      " 1   RAZÓN SOCIAL            19998 non-null  object \n",
      " 2   SUPERVISOR              20000 non-null  object \n",
      " 3   REGIÓN                  20000 non-null  object \n",
      " 4   DEPARTAMENTO DOMICILIO  20000 non-null  object \n",
      " 5   CIUDAD DOMICILIO        20000 non-null  object \n",
      " 6   CIIU                    20000 non-null  int64  \n",
      " 7   MACROSECTOR             20000 non-null  object \n",
      " 8   INGRESOS OPERACIONALES  20000 non-null  float64\n",
      " 9   GANANCIA (PÉRDIDA)      20000 non-null  float64\n",
      " 10  TOTAL ACTIVOS           20000 non-null  float64\n",
      " 11  TOTAL PASIVOS           20000 non-null  float64\n",
      " 12  TOTAL PATRIMONIO        20000 non-null  float64\n",
      " 13  Año de Corte            20000 non-null  int64  \n",
      "dtypes: float64(5), int64(3), object(6)\n",
      "memory usage: 2.1+ MB\n"
     ]
    }
   ],
   "source": [
    "# Eliminar \"$\" de la totalidad de la base.\n",
    "df = df.replace({'\\$': ''}, regex=True)\n",
    "\n",
    "# Conversion de columnas a valores numericos\n",
    "columnas_a_convertir = ['INGRESOS OPERACIONALES', 'GANANCIA (PÉRDIDA)', 'TOTAL ACTIVOS', 'TOTAL PASIVOS', 'TOTAL PATRIMONIO']\n",
    "df[columnas_a_convertir] = df[columnas_a_convertir].apply(pd.to_numeric)\n",
    "\n",
    "df.info()"
   ]
  },
  {
   "cell_type": "markdown",
   "id": "00582375-ba79-4c73-b653-1dc04a561d69",
   "metadata": {},
   "source": [
    "#### A continuación se relaciona un resumen de la ecuacion basica patrimonial (Activo-Pasivo=Patrimonio) realizando la sumatria por \"Región\" y comporbando la veracidad de la misma con los valores relacionados a continuación:"
   ]
  },
  {
   "cell_type": "code",
   "execution_count": 44,
   "id": "90dbd329-66d5-433b-b08d-33420504ae36",
   "metadata": {},
   "outputs": [
    {
     "name": "stdout",
     "output_type": "stream",
     "text": [
      "REGIÓN\n",
      "Otros                 13.25\n",
      "Eje Cafetero          20.32\n",
      "Centro - Oriente      37.80\n",
      "Costa Pacifica       126.71\n",
      "Costa Atlantica      177.26\n",
      "Antioquia            464.08\n",
      "Bogota              1152.70\n",
      "Name: TOTAL PATRIMONIO, dtype: float64\n"
     ]
    }
   ],
   "source": [
    "#Suma del patrimonio por departamentos domicilio\n",
    "TOTAL_PATRIMONIO_dpt = df.groupby(['REGIÓN'])['TOTAL PATRIMONIO'].sum()\n",
    "print(TOTAL_PATRIMONIO_dpt.sort_values())"
   ]
  },
  {
   "cell_type": "code",
   "execution_count": 45,
   "id": "272ef381-e369-4997-8eeb-24bf8df43b79",
   "metadata": {},
   "outputs": [
    {
     "name": "stdout",
     "output_type": "stream",
     "text": [
      "REGIÓN\n",
      "Otros                 26.61\n",
      "Eje Cafetero          48.99\n",
      "Centro - Oriente      76.54\n",
      "Costa Pacifica       264.47\n",
      "Costa Atlantica      368.09\n",
      "Antioquia            842.30\n",
      "Bogota              2333.86\n",
      "Name: TOTAL ACTIVOS, dtype: float64\n"
     ]
    }
   ],
   "source": [
    "\n",
    "#Suma de activos por departamentos domicilio\n",
    "TOTAL_ACTIVOS_dpt = df.groupby(['REGIÓN'])['TOTAL ACTIVOS'].sum()\n",
    "print(TOTAL_ACTIVOS_dpt.sort_values())"
   ]
  },
  {
   "cell_type": "code",
   "execution_count": 46,
   "id": "6177e9a8-770d-4f90-8983-fe24b38f849a",
   "metadata": {},
   "outputs": [
    {
     "name": "stdout",
     "output_type": "stream",
     "text": [
      "REGIÓN\n",
      "Otros                 12.80\n",
      "Eje Cafetero          28.39\n",
      "Centro - Oriente      38.04\n",
      "Costa Pacifica       136.83\n",
      "Costa Atlantica      190.28\n",
      "Antioquia            376.30\n",
      "Bogota              1178.90\n",
      "Name: TOTAL PASIVOS, dtype: float64\n"
     ]
    }
   ],
   "source": [
    "#Suma de pasivos por departamentos domicilio\n",
    "TOTAL_PASIVOS_dpt = df.groupby(['REGIÓN'])['TOTAL PASIVOS'].sum()\n",
    "print(TOTAL_PASIVOS_dpt.sort_values())"
   ]
  },
  {
   "cell_type": "code",
   "execution_count": null,
   "id": "43c58126-3444-46de-9736-8aa37ee0053d",
   "metadata": {},
   "outputs": [],
   "source": []
  }
 ],
 "metadata": {
  "kernelspec": {
   "display_name": "Python 3 (ipykernel)",
   "language": "python",
   "name": "python3"
  },
  "language_info": {
   "codemirror_mode": {
    "name": "ipython",
    "version": 3
   },
   "file_extension": ".py",
   "mimetype": "text/x-python",
   "name": "python",
   "nbconvert_exporter": "python",
   "pygments_lexer": "ipython3",
   "version": "3.11.7"
  }
 },
 "nbformat": 4,
 "nbformat_minor": 5
}
